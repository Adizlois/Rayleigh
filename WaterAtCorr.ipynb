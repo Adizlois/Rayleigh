{
 "metadata": {
  "name": "WaterAtCorr"
 },
 "nbformat": 3,
 "nbformat_minor": 0,
 "worksheets": [
  {
   "cells": [
    {
     "cell_type": "heading",
     "level": 1,
     "metadata": {},
     "source": [
      "Atmospheric Correction of Landsat TM data over inland waters"
     ]
    },
    {
     "cell_type": "heading",
     "level": 3,
     "metadata": {},
     "source": [
      "J G\u00f3mez-Dans, NCEO & UCL"
     ]
    },
    {
     "cell_type": "heading",
     "level": 2,
     "metadata": {},
     "source": [
      "Main idea"
     ]
    },
    {
     "cell_type": "markdown",
     "metadata": {},
     "source": [
      "This note contains a step-by-step guide to implement the simplified atmospheric correction method implemented in Wang *et al* (2007) (DOI: 10.1007/s11769-007-0364-7). While not perfect, it does most of the first order effects."
     ]
    },
    {
     "cell_type": "markdown",
     "metadata": {},
     "source": [
      "The main assumption is that the \"top of atmosphere\" radiance at some wavelength $\\lambda$, $L_{T}(\\lambda)$ is given by\n",
      "$$\n",
      "L_{T}(\\lambda) = \\overbrace{L_{r}(\\lambda)}^{\\text{Rayleigh Scattering}} + \\overbrace{L_{a}(\\lambda)}^{\\text{Aerosol Scattering}} + \\underbrace{\\overbrace{t(\\lambda)}^{\\text{Diffuse transmittance}}\\cdot L_{W}(\\lambda)}_{\\text{Water-leaving radiance}}\n",
      "$$\n",
      "\n",
      "We shall examine each of the terms above in order."
     ]
    },
    {
     "cell_type": "heading",
     "level": 2,
     "metadata": {},
     "source": [
      "Rayleigh scattering term"
     ]
    },
    {
     "cell_type": "markdown",
     "metadata": {},
     "source": [
      "The Rayleigh scattering term is only dependent on a few factors:\n",
      "\n",
      "* Wavelength, $\\lambda$\n",
      "* Altitude of the sensor $h_{0}$\n",
      "* Sun zenith angle ($\\theta_{0}$) as well as its inverse cosine ($\\mu_{0}=1/\\cos(\\theta_{0})$\n",
      "* View zenith angle ($\\theta$) as well as its inverse cosine ($\\mu=1/\\cos(\\theta)$\n",
      "\n",
      "$L_{r}(\\lambda)$ can be calculated from Gilabert et al. (1994) or Chen (1998) as\n",
      "$$\n",
      "L_{r}(\\lambda) = \\frac{1}{4\\pi\\mu}\\left[F_{0}(\\lambda)\\cdot T_{O3}(\\lambda)\\tau_{r}(\\lambda)\\right]\\cdot \\left[P_{r}(\\gamma^{\\downarrow})+\\left\\lbrace\\rho(\\mu)+\\rho(\\mu_{0})\\cdot P_{r}(\\gamma^{\\uparrow})\\right] \\right\\rbrace,\n",
      "$$\n",
      "\n",
      "where\n",
      "$$\n",
      "T_{O3} = \\exp\\left[ \\tau_{O3}(\\lambda)\\cdot \\left( \\frac{1}{\\mu} + \\frac{1}{\\mu_{0}} \\right)\\right]\n",
      "$$\n",
      "\n",
      "In order to calculate the ozone optical depth $\\tau_{O3}$,\n",
      "$$\n",
      "\\tau_{O3} = XO_3*A(\\lambda),\n",
      "$$\n",
      "where $XO_3$ is the total columnar Ozone concentration (in units $atm\\cdot cm$, which are equivalent to Dobson units divided by 1000. The wavelength dependent parameter $A(\\lambda)$ can be found in [Appendix A](https://www.arm.gov/publications/tech_reports/doe-sc-arm-tr-129.pdf pdf). Total column $O_3$ data are available from [many websites](http://www.temis.nl/protocols/O3total.html).\n",
      "\n",
      "The Rayleigh optical depth $\\tau_{r}(\\lambda)$ is a function of the sensor height and operating wavelength (see Hansen and Travis, 1974):\n",
      "$$\n",
      "\\tau_{r}(\\lambda) = \\exp\\left(-0.1188\\cdot h_{0} - 0.0011\\cdot h_{0}^{2}\\right)\\cdot \\left[0.00859\\cdot\\lambda^{-4}\\cdot(1+0.0113\\cdot\\lambda^{-2} + 0.00013\\lambda^{-4})\\right]\n",
      "$$\n",
      "\n",
      "We also have that the Rayleight phase functions of downward and upward radiance are given by\n",
      "$$\n",
      "P_{r}(\\gamma^{\\downarrow})=\\frac{3}{4}(1 + \\cos^{2}\\gamma^{\\downarrow})\n",
      "$$\n",
      "$$\n",
      "P_{r}(\\gamma^{\\uparrow})=\\frac{3}{4}\\left[1 + (2\\mu \\mu_{0} + \\cos \\gamma^{\\uparrow})^2\\right]\n",
      "$$\n",
      "\n",
      "The cosines of the scattering angles are given by\n",
      "$$\n",
      "\\cos\\gamma^{\\downarrow} = \\cos\\theta_{0}\\cos\\theta - \\sin\\theta_{0}\\sin\\theta\\cos(\\phi-\\phi_{0})\n",
      "$$\n",
      "\n",
      "$$\n",
      "\\cos\\gamma^{\\uparrow} = -\\cos\\theta_{0}\\cos\\theta - \\sin\\theta_{0}\\sin\\theta\\cos(\\phi-\\phi_{0})\n",
      "$$\n",
      "\n",
      "The Fresnel reflectance $\\rho(x)$ (where $x=\\mu,\\,\\mu_{0}$) is given by\n",
      "$$\n",
      "\\rho(x) = 1 - 2\\cdot x y m\\cdot\\left[\\frac{1}{(x+my)^2} + \\frac{1}{(mx+y)^2}\\right],\n",
      "$$\n",
      "where\n",
      "$$\n",
      "y= \\frac{1}{m}\\sqrt{m^2+x^2-1}\n",
      "$$\n",
      "and $m$ is the refraction index of water ($m=1.396$)"
     ]
    },
    {
     "cell_type": "code",
     "collapsed": false,
     "input": [
      "def solar_distance ( doy ):\n",
      "  \"\"\"Calculates the solar distance as a function of\n",
      "  day of year (DoY). Code taken from 6S, subroutine\n",
      "  VARSOL\"\"\"\n",
      "  assert ( doy > 0 ) & ( doy < 367 )\n",
      "  om = (0.9856*( doy -4))*np.pi/180.\n",
      "  dsol = 1. / ( (1.-.01673*np.cos(om))**2)\n",
      "  return dsol\n",
      "\n",
      "def extraterrestrial_radiation( wvl, doy ):\n",
      "    \"\"\"Need a function to calculate **spectral** extraterrestrial radiation as a function of Earth-Sun\n",
      "    distance and wavelength. I think a formula is available in Liang's book, but haven't got it to\n",
      "    hand....\"\"\"\n",
      "    # TODO\n",
      "    import urllib\n",
      "    import os\n",
      "    # Check if the coeffs are local. If they aren't, download them\n",
      "    if not os.path.exists ( \"solirr.dat\" ):\n",
      "        url=\"https://gist.github.com/jgomezdans/5460835/raw/f55b43be870fb8809e480f9198c943fbb53047d4/solirr.dat\"\n",
      "        data = np.loadtxt( urllib.urlopen ( url ) )\n",
      "        np.savetxt ( \"solirr.dat\", data )\n",
      "        solirr = data\n",
      "    else:\n",
      "        solirr = np.loadtxt ( \"solirr.dat\" )\n",
      "    sun_earth_distance = solar_distance ( doy )\n",
      "    i = np.argmin( np.abs(solirr[:,0] - wvl))\n",
      "    ETo = solirr[i,1] * sun_earth_distance\n",
      "    return ETo"
     ],
     "language": "python",
     "metadata": {},
     "outputs": [],
     "prompt_number": 13
    },
    {
     "cell_type": "code",
     "collapsed": false,
     "input": [
      "def ozone ( lambdai, theta_0, theta, o3_column ):\n",
      "    \"\"\"Calculation of the ozone transmittance $T_{O3}(\\lambda)$\n",
      "    We need to get the coefficients which are available in \n",
      "    https://gist.github.com/jgomezdans/5443793/raw/fc5e78fb0317d8900dd2db1613511d7060c1c2bd/o3_coeff.txt\n",
      "\n",
      "    Parameters\n",
      "    ----------\n",
      "    lambdai: wavelength in nm\n",
      "    theta_0: Sun zenith angle (SZA) in degrees\n",
      "    theta: View zenith angle (VZA) in degrees\n",
      "    o3_column: Total columnar O3 concentration in Dobson units\n",
      "    \"\"\"\n",
      "    import urllib\n",
      "    import os\n",
      "    # Check if the coeffs are local. If they aren't, download them\n",
      "    if not os.path.exists ( \"o3_coeff.txt\" ):\n",
      "        url=\"http://gist.github.com/jgomezdans/5443793/raw/fc5e78fb0317d8900dd2db1613511d7060c1c2bd/o3_coeff.txt\"\n",
      "        data = np.loadtxt( urllib.urlopen ( url ) )\n",
      "        np.savetxt ( \"o3_coeff.txt\", data )\n",
      "        o3_coeff = data\n",
      "    else:\n",
      "        o3_coeff = np.loadtxt ( \"o3_coeff.txt\" )\n",
      "    o3_column = o3_column/1000. # Convert to atm cm\n",
      "    # Calculate mu terms...\n",
      "    mu = 1./np.cos ( np.deg2rad(theta) )\n",
      "    mu_0 = 1./np.cos ( np.deg2rad( theta_0 ) )\n",
      "    tau_O3 = data[data[:,0]==lambdai, 1] * o3_column\n",
      "    T_O3 = np.exp ( tau_O3*(1./mu + 1./np.cos(mu_0) ) )\n",
      "    return T_O3\n",
      "        \n",
      "        \n"
     ],
     "language": "python",
     "metadata": {},
     "outputs": [],
     "prompt_number": 6
    },
    {
     "cell_type": "code",
     "collapsed": false,
     "input": [
      "def rayleigh_optical_depth ( lambdai, h0 ):\n",
      "    \"\"\"\n",
      "    Calculates the rayleigh optical depth. Uses an approximation from Hansen and Travis, but \n",
      "    it is not clear where the sensor height function comes from?\n",
      "\n",
      "    Note that we might also consider tau_r as being given as in Bodhaine et al (1999) (Eq. 30)\n",
      "    tau_r(\\lambda in microns) = 0.0021520*( (1.0455996-341.29061*(1./lambda**2) - 0.90230850*lambda**2)/ \n",
      "          (1 + 0.0027059889*(1./lambda**2) - 85.968563*lambda**2))\n",
      "\n",
      "    This is for sea level, latitude of 45deg and 1 atm. \n",
      "    Parameters\n",
      "    ----------\n",
      "    lambdai: wavelength ***in microns***\n",
      "    h0: sensor height in km\n",
      "    \"\"\"\n",
      "    \n",
      "    Hr = np.exp ( -0.1188*h0 - 0.0011*h0*h0 )\n",
      "    tau_r = Hr*( 0.00859*(1/(lambdai**4))*(1+0.0113*(1/(lambdai**2)) + 0.00013*(1/(lambdai**4))))\n",
      "    return tau_r\n"
     ],
     "language": "python",
     "metadata": {},
     "outputs": [],
     "prompt_number": 9
    },
    {
     "cell_type": "code",
     "collapsed": false,
     "input": [
      "def rayleigh_phase_functions ( theta_0, theta, phi_0, phi ):\n",
      "    \"\"\"Wather phase functions require the acquisition geometry in degrees\"\"\"\n",
      "    theta_0 = np.deg2rad ( theta_0 )\n",
      "    theta = np.deg2rad ( theta )\n",
      "    phi_0 = np.deg2rad ( phi_0 )\n",
      "    phi = np.deg2rad ( phi )\n",
      "    mu = np.cos ( theta )\n",
      "    mu_0 = np.cos ( theta_0 )\n",
      "    cos_gamma_down = np.cos ( theta_0 )*np.cos(theta) - np.sin(theta_0)*np.sin(theta)*np.cos(phi-pi_0)\n",
      "    cos_gamma_up = - np.cos ( theta_0 )*np.cos(theta) - np.sin(theta_0)*np.sin(theta)*np.cos(phi-pi_0)\n",
      "    \n",
      "    P_gamma_down = (3./4.)*(1 + cos_gamma_down*cos_gamma_down )\n",
      "    P_gamma_up = (3./4.) * (1 + (2*mu*mu_0 + cos_gamma_up)**2 )\n",
      "\n",
      "    return P_gamma_down, P_gamma_up"
     ],
     "language": "python",
     "metadata": {},
     "outputs": [],
     "prompt_number": 11
    },
    {
     "cell_type": "code",
     "collapsed": false,
     "input": [
      "def fresnel_reflectance ( theta, theta_0, m=1.396 ):\n",
      "    mu = np.cos ( np.deg2rad ( theta ) )\n",
      "    mu_0 = np.cos ( np.deg2rad ( theta_0 ) )\n",
      "    \n",
      "    y = (1./m)*np.sqrt ( m*m + mu*mu - 1 )\n",
      "    y0 = (1./m)*np.sqrt ( m*m + mu0*mu0 - 1 )\n",
      "    rho_mu = 1. - 2.*mu*y*m*( 1./(mu + m*y)**2 + 1./(m*mu*y)**2)\n",
      "    rho_mu0 = 1. - 2.*mu0*y0*m*( 1./(mu0 + m*y0)**2 + 1./(m*mu0*y0)**2)\n",
      "    return rho_mu, rho_mu0"
     ],
     "language": "python",
     "metadata": {},
     "outputs": [],
     "prompt_number": 12
    },
    {
     "cell_type": "code",
     "collapsed": false,
     "input": [
      "def rayleigh_scattering ( theta, theta_0, phi, phi_0, lambdai, o3_conc, h0, doy ):\n",
      "    # Calculate the terms in Eq. 2 of Wang et al\n",
      "    # First, the relevant ETr... Note this is not implemented\n",
      "    F0 = extraterrestrial_radiation ( doy, lambdai )\n",
      "    # Ozone transmittance\n",
      "    T_O3 = ozone ( lambdai, theta_0, theta, o3_conc )\n",
      "    # Rayleigh optical depth\n",
      "    tau_rayleigh = rayleigh_optical_depth ( lambdai, h0 )\n",
      "    # The Rayleigh up and down phase functions\n",
      "    P_gamma_down, P_gamma_up = rayleigh_phase_functions ( theta_0, theta, phi_0, phi )\n",
      "    # Fresnel terms\n",
      "    rho_mu, rho_mu0 = fresnel_reflectance ( theta, theta_0 )\n",
      "    # Now put together Eq. 2...\n",
      "    mu = np.cos ( np.deg2rad ( theta ) )\n",
      "    rayleigh_radiance = (1./(4*np.pi*mu))\n",
      "    rayleigh_radiance = rayleigh_radiance*(F0*T_O3*tau_rayleigh)\n",
      "    rayleigh_radiance = rayleigh_radiance*(P_gamma_down + (rho_mu + rho_mu0)*P_gamma_up)\n",
      "    return rayleigh_radiance"
     ],
     "language": "python",
     "metadata": {},
     "outputs": [],
     "prompt_number": 14
    },
    {
     "cell_type": "heading",
     "level": 2,
     "metadata": {},
     "source": [
      "Aerosol contribution"
     ]
    },
    {
     "cell_type": "markdown",
     "metadata": {},
     "source": [
      "In Wang et al (2004), the aerosol contribution comes from using the clear-water-pixels from the blue, green and red TM bands. Clear water pixels are identified by using TM band 7. Ignoring aerosol scattering at band 7, the water-leaving radiance at this band is\n",
      "\n",
      "$$\n",
      "t^{\\uparrow}(\\lambda)L_{w}(\\lambda)=L{t}(\\lambda) - L_{r}(\\lambda)\n",
      "$$\n",
      "\n",
      "and \n",
      "\n",
      "$$\n",
      "t^{\\uparrow}(\\lambda) = \\exp\\left\\lbrace -\\left[\\frac{\\tau_{r}(\\lambda)}{2}+\\tau(\\lambda_{O3})\\right]/\\cos\\theta \\right\\rbrace\n",
      "$$\n",
      "\n",
      "$L_{r}(\\lambda)$ is the Rayleigh scattering coefficient from the previous step, and this is just a rearrangement of Eq. 1 assuming that $L_{a}(\\lambda)=0$. From these equations, we have a value for $L_{w}$ at 2100nm, and we can use that to threshold the pixel:\n",
      "\n",
      "* $L_{w}(2100nm) < 0.2)\\;\\;\\;$ Clear water\n",
      "* $0.2 < L_{w}(2100nm) < 0.9)\\;\\;\\;$ General water\n",
      "* $L_{w}(2100nm) > 0.9)\\;\\;\\;$ No water\n",
      "\n",
      "Once the clear water pixels have been identified, using the fact that the water leaving radianace over these pixels is fairly constant in the green, we compute the aerosol contribution at the green band (560 nm):\n",
      "$$\n",
      "L_{a}^{0}(560) = L_{t}^{0}(560) - L_{r}^{0}(560) - L_{w}^{0}(560)\n",
      "$$\n",
      "\n",
      "The value of $L_{a}^{0}(560)$ is then spatially interpolated, and for each TM band $i=1,2,3$, we have that \n",
      "\n",
      "$$\n",
      "t(\\lambda_i)L_{w}(\\lambda_i) = L_{t}(\\lambda_i) - L_{r}(\\lambda_i)-S(\\lambda_i, \\lambda_2)L_{a}(560)\n",
      "$$\n",
      "where\n",
      "$$\n",
      "S(\\lambda_i,560) = \\epsilon(\\lambda_i,560)\\frac{F'_{0}(\\lambda_i)}{F'_{0}(560)}\n",
      "$$\n",
      "\n",
      "Assuming that $\\epsilon(\\lambda_i,560)=1$, we can now solve for $L_{w}(\\lambda_i)$ for all visible TM wavebands."
     ]
    },
    {
     "cell_type": "heading",
     "level": 3,
     "metadata": {},
     "source": [
      "Notes"
     ]
    },
    {
     "cell_type": "markdown",
     "metadata": {},
     "source": [
      "It might be quite sensible to use the MOD04 MODIS aerosol product as an indication of what's going on in here? This all hinges on the fact that the green aerosols can be translated to the other wavelengths using the extraterrestrial spectrum."
     ]
    },
    {
     "cell_type": "code",
     "collapsed": false,
     "input": [],
     "language": "python",
     "metadata": {},
     "outputs": []
    }
   ],
   "metadata": {}
  }
 ]
}